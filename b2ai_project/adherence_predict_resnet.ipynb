{
 "cells": [
  {
   "cell_type": "code",
   "execution_count": 4,
   "metadata": {},
   "outputs": [
    {
     "name": "stdout",
     "output_type": "stream",
     "text": [
      "                                    pid  \\\n",
      "0  1f9475bb-f13b-4f68-969b-28f20455b3e7   \n",
      "1  1f9475bb-f13b-4f68-969b-28f20455b3e7   \n",
      "2  1f9475bb-f13b-4f68-969b-28f20455b3e7   \n",
      "3  1f9475bb-f13b-4f68-969b-28f20455b3e7   \n",
      "4  1f9475bb-f13b-4f68-969b-28f20455b3e7   \n",
      "\n",
      "                                        task  adherence  \\\n",
      "0                                   Loudness        NaN   \n",
      "1             Respiration-and-cough-Breath-2        NaN   \n",
      "2        Respiration-and-cough-FiveBreaths-1        NaN   \n",
      "3  Respiration-and-cough-ThreeQuickBreaths-2        NaN   \n",
      "4                   Maximum-phonation-time-1        NaN   \n",
      "\n",
      "                                                file  \\\n",
      "0  /Users/rachelwang/Downloads/bids_with_sensitiv...   \n",
      "1  /Users/rachelwang/Downloads/bids_with_sensitiv...   \n",
      "2  /Users/rachelwang/Downloads/bids_with_sensitiv...   \n",
      "3  /Users/rachelwang/Downloads/bids_with_sensitiv...   \n",
      "4  /Users/rachelwang/Downloads/bids_with_sensitiv...   \n",
      "\n",
      "                                         spectrogram  \n",
      "0  /Users/rachelwang/Downloads/notes/models/adher...  \n",
      "1  /Users/rachelwang/Downloads/notes/models/adher...  \n",
      "2  /Users/rachelwang/Downloads/notes/models/adher...  \n",
      "3  /Users/rachelwang/Downloads/notes/models/adher...  \n",
      "4  /Users/rachelwang/Downloads/notes/models/adher...  \n"
     ]
    }
   ],
   "source": [
    "import pandas as pd\n",
    "import torch\n",
    "from torch.utils.data import Dataset, DataLoader\n",
    "from torchvision import transforms, models\n",
    "from PIL import Image\n",
    "\n",
    "# Load the non-labeled CSV file\n",
    "new_data_path = '/Users/rachelwang/Downloads/notes/models/csv/adherence_labeled_with_image_empty.csv'\n",
    "new_data = pd.read_csv(new_data_path)\n",
    "\n",
    "# Verify the loaded data\n",
    "print(new_data.head())"
   ]
  },
  {
   "cell_type": "code",
   "execution_count": 2,
   "metadata": {},
   "outputs": [],
   "source": [
    "# Define the dataset class\n",
    "class SpectrogramDataset(Dataset):\n",
    "    def __init__(self, dataframe, transform=None):\n",
    "        self.dataframe = dataframe\n",
    "        self.transform = transform\n",
    "    \n",
    "    def __len__(self):\n",
    "        return len(self.dataframe)\n",
    "    \n",
    "    def __getitem__(self, idx):\n",
    "        img_path = self.dataframe.iloc[idx]['spectrogram']\n",
    "        image = Image.open(img_path).convert('RGB')\n",
    "        \n",
    "        if self.transform:\n",
    "            image = self.transform(image)\n",
    "        \n",
    "        # Dummy label for compatibility, will not be used\n",
    "        label = 0\n",
    "        return image, label"
   ]
  },
  {
   "cell_type": "code",
   "execution_count": 3,
   "metadata": {},
   "outputs": [],
   "source": [
    "# Define the transformations\n",
    "transform = transforms.Compose([\n",
    "    transforms.RandomHorizontalFlip(),\n",
    "    transforms.RandomVerticalFlip(),\n",
    "    transforms.RandomRotation(10),\n",
    "    transforms.Resize((224, 224)),\n",
    "    transforms.ToTensor(),\n",
    "    transforms.Normalize(mean=[0.485, 0.456, 0.406], std=[0.229, 0.224, 0.225]),\n",
    "])"
   ]
  },
  {
   "cell_type": "code",
   "execution_count": 8,
   "metadata": {},
   "outputs": [
    {
     "name": "stderr",
     "output_type": "stream",
     "text": [
      "/Users/rachelwang/Downloads/notes/.venv/lib/python3.10/site-packages/torchvision/models/_utils.py:208: UserWarning: The parameter 'pretrained' is deprecated since 0.13 and may be removed in the future, please use 'weights' instead.\n",
      "  warnings.warn(\n",
      "/Users/rachelwang/Downloads/notes/.venv/lib/python3.10/site-packages/torchvision/models/_utils.py:223: UserWarning: Arguments other than a weight enum or `None` for 'weights' are deprecated since 0.13 and may be removed in the future. The current behavior is equivalent to passing `weights=None`.\n",
      "  warnings.warn(msg)\n"
     ]
    }
   ],
   "source": [
    "from torch import nn\n",
    "# Create a dataset and dataloader for the new data\n",
    "new_dataset = SpectrogramDataset(new_data, transform=transform)\n",
    "new_loader = DataLoader(new_dataset, batch_size=32, shuffle=False)\n",
    "\n",
    "# Load the ResNet model\n",
    "device = torch.device(\"cuda\" if torch.cuda.is_available() else \"cpu\")\n",
    "model = models.resnet50(pretrained=False)\n",
    "model.fc = nn.Linear(model.fc.in_features, 5)  # Assuming 5 classes\n",
    "model.load_state_dict(torch.load('resnet_best_model_adherence.pth'))\n",
    "model = model.to(device)"
   ]
  },
  {
   "cell_type": "code",
   "execution_count": 9,
   "metadata": {},
   "outputs": [
    {
     "name": "stdout",
     "output_type": "stream",
     "text": [
      "Predictions saved to: /Users/rachelwang/Downloads/notes/models/csv/predicted_adherence_label_empty_1.csv\n"
     ]
    }
   ],
   "source": [
    "# Predict labels for the new data\n",
    "model.eval()\n",
    "predictions = []\n",
    "\n",
    "with torch.no_grad():\n",
    "    for images, _ in new_loader:\n",
    "        images = images.to(device)\n",
    "        outputs = model(images)\n",
    "        _, predicted = torch.max(outputs, 1)\n",
    "        predictions.extend(predicted.cpu().numpy())\n",
    "\n",
    "# Add the predictions to the new data\n",
    "new_data['adherence'] = [p + 1 for p in predictions]  # Convert back to 1-based labels\n",
    "\n",
    "# Save the new data with predictions\n",
    "new_data_with_predictions_path = '/Users/rachelwang/Downloads/notes/models/csv/predicted_adherence_label_empty_1.csv'\n",
    "new_data.to_csv(new_data_with_predictions_path, index=False)\n",
    "\n",
    "print(f\"Predictions saved to: {new_data_with_predictions_path}\")"
   ]
  },
  {
   "cell_type": "code",
   "execution_count": 10,
   "metadata": {},
   "outputs": [
    {
     "name": "stdout",
     "output_type": "stream",
     "text": [
      "Adherence label counts:\n",
      "adherence\n",
      "1     15\n",
      "5    526\n",
      "Name: count, dtype: int64\n"
     ]
    }
   ],
   "source": [
    "# Count the occurrences of each adherence label\n",
    "data = pd.read_csv(new_data_with_predictions_path)\n",
    "label_counts = new_data['adherence'].value_counts().sort_index()\n",
    "\n",
    "# Print the counts for each label\n",
    "print(\"Adherence label counts:\")\n",
    "print(label_counts)"
   ]
  }
 ],
 "metadata": {
  "kernelspec": {
   "display_name": ".venv",
   "language": "python",
   "name": "python3"
  },
  "language_info": {
   "codemirror_mode": {
    "name": "ipython",
    "version": 3
   },
   "file_extension": ".py",
   "mimetype": "text/x-python",
   "name": "python",
   "nbconvert_exporter": "python",
   "pygments_lexer": "ipython3",
   "version": "3.10.13"
  }
 },
 "nbformat": 4,
 "nbformat_minor": 2
}
